{
 "metadata": {
  "language_info": {
   "codemirror_mode": {
    "name": "ipython",
    "version": 3
   },
   "file_extension": ".py",
   "mimetype": "text/x-python",
   "name": "python",
   "nbconvert_exporter": "python",
   "pygments_lexer": "ipython3",
   "version": 3
  },
  "orig_nbformat": 2,
  "kernelspec": {
   "name": "python_defaultSpec_1595412892590",
   "display_name": "Python 3.8.0 64-bit"
  }
 },
 "nbformat": 4,
 "nbformat_minor": 2,
 "cells": [
  {
   "cell_type": "markdown",
   "metadata": {},
   "source": [
    "## Importing the Libraries"
   ]
  },
  {
   "cell_type": "code",
   "execution_count": 42,
   "metadata": {},
   "outputs": [],
   "source": [
    "import numpy as np\n",
    "import matplotlib.pyplot as plt\n",
    "import pandas as pd\n",
    "import chardet"
   ]
  },
  {
   "cell_type": "markdown",
   "metadata": {},
   "source": [
    "## Importing The Dataset"
   ]
  },
  {
   "cell_type": "code",
   "execution_count": 43,
   "metadata": {},
   "outputs": [],
   "source": [
    "with open('Car_Purchasing_Data.csv', 'rb') as f:\n",
    "    result = chardet.detect(f.read())\n",
    "\n",
    "dataset = pd.read_csv('Car_Purchasing_Data.csv', encoding=result['encoding'])\n",
    " \n",
    "X = dataset.iloc[:, 3:-1].values\n",
    "y = dataset.iloc[:, -1].values"
   ]
  },
  {
   "cell_type": "markdown",
   "metadata": {},
   "source": [
    "### reshaping y "
   ]
  },
  {
   "cell_type": "code",
   "execution_count": 44,
   "metadata": {},
   "outputs": [],
   "source": [
    "y = y.reshape(len(y), 1)"
   ]
  },
  {
   "cell_type": "markdown",
   "metadata": {},
   "source": [
    "## Feature Scaling"
   ]
  },
  {
   "cell_type": "code",
   "execution_count": 45,
   "metadata": {},
   "outputs": [],
   "source": [
    "from sklearn.preprocessing import StandardScaler\n",
    "sc_X = StandardScaler()\n",
    "sc_y = StandardScaler()\n",
    "X = sc_X.fit_transform(X)\n",
    "y = sc_y.fit_transform(y)\n"
   ]
  },
  {
   "cell_type": "markdown",
   "metadata": {},
   "source": [
    "## Splitting the Dataset into Training and Test Set"
   ]
  },
  {
   "cell_type": "code",
   "execution_count": 46,
   "metadata": {},
   "outputs": [],
   "source": [
    "from sklearn.model_selection import train_test_split\n",
    "X_train, X_test, y_train, y_test = train_test_split(X, y, test_size = 0.2, random_state = 0)"
   ]
  },
  {
   "cell_type": "markdown",
   "metadata": {},
   "source": [
    "## Training SVR model on Training Set"
   ]
  },
  {
   "cell_type": "code",
   "execution_count": 47,
   "metadata": {},
   "outputs": [
    {
     "output_type": "execute_result",
     "data": {
      "text/plain": "SVR()"
     },
     "metadata": {},
     "execution_count": 47
    }
   ],
   "source": [
    "from sklearn.svm import SVR\n",
    "regressor = SVR(kernel = 'rbf')\n",
    "regressor.fit(X_train, y_train)"
   ]
  },
  {
   "cell_type": "markdown",
   "metadata": {},
   "source": [
    "## Testing model on Test Set"
   ]
  },
  {
   "cell_type": "code",
   "execution_count": 48,
   "metadata": {
    "tags": []
   },
   "outputs": [],
   "source": [
    "y_pred = regressor.predict(X_test)\n",
    "y_pred = y_pred.reshape(len(y_pred), 1)"
   ]
  },
  {
   "cell_type": "code",
   "execution_count": 49,
   "metadata": {
    "tags": []
   },
   "outputs": [
    {
     "output_type": "stream",
     "name": "stdout",
     "text": "[[39280.6106653  38955.21919   ]\n [43115.65043301 43401.56612   ]\n [30383.32883566 29417.64694   ]\n [51573.8103734  52150.41786   ]\n [38579.2541849  38243.06228   ]\n [54027.966323   53017.26723   ]\n [60367.8907933  60526.97788   ]\n [61018.34209106 59538.40327   ]\n [37085.08687726 37714.31659   ]\n [30473.01998755 31300.54347   ]\n [47344.03379333 46846.7305    ]\n [57787.79991915 56973.18105   ]\n [52601.83997225 53993.44322   ]\n [60030.27109553 70878.29664   ]\n [28627.45695049 27889.95197   ]\n [30861.403434   31526.04931   ]\n [48254.85165921 47979.48549   ]\n [59560.90920854 58667.06865   ]\n [42189.25014229 42369.64247   ]\n [23773.35221028 10092.22509   ]\n [49010.82557865 48518.90163   ]\n [36869.65942105 37183.10293   ]\n [46404.84211013 46325.50959   ]\n [27798.00143513 27586.71854   ]\n [65775.52365799 68925.09447   ]\n [43728.44111496 43898.2733    ]\n [43186.6257845  43402.31525   ]\n [47290.90159966 46710.52519   ]\n [58691.2348533  61593.52058   ]\n [59890.73457245 58235.41454   ]\n [48461.77844382 48516.84335   ]\n [42506.55998702 42592.88647   ]\n [55878.41931955 54755.42038   ]\n [42979.38601126 42774.35579   ]\n [63136.99512889 63079.84329   ]\n [61446.65316354 60117.67886   ]\n [34558.68448597 35716.31133   ]\n [60092.30649967 59984.16361   ]\n [42526.46160203 42793.9932    ]\n [42196.10746265 42997.16761   ]\n [60013.67026199 59625.02618   ]\n [33234.39451878 34215.7615    ]\n [30577.05107564 30419.8       ]\n [41289.00842125 37303.56701   ]\n [41175.81283333 41357.17897   ]\n [44995.35933168 45115.52566   ]\n [44764.72421642 44577.44829   ]\n [54539.07876838 53496.48183   ]\n [36394.85738036 38174.87433   ]\n [34302.08596547 33640.73697   ]\n [37317.85678272 35726.95299   ]\n [40602.70550738 41026.02421   ]\n [50777.24627887 50188.86612   ]\n [53089.49068698 53655.53859   ]\n [39224.847985   39766.64804   ]\n [27619.24821961 28700.0334    ]\n [43282.92749566 43503.97349   ]\n [56561.01409896 57430.76903   ]\n [46021.26236471 45509.69732   ]\n [56003.3684818  59096.26978   ]\n [37818.0130454  38502.42392   ]\n [47187.64316542 48025.02542   ]\n [43047.48158108 42704.3221    ]\n [48333.84074261 47719.47741   ]\n [42426.23149556 42321.56548   ]\n [49109.99916896 49721.31082   ]\n [60517.24205524 59045.51309   ]\n [29202.397846   28164.86039   ]\n [39092.54506249 39549.13039   ]\n [51166.69540018 50958.08115   ]\n [44058.9236557  44418.60955   ]\n [53950.23788867 52954.93121   ]\n [23082.35399906 23517.91983   ]\n [54832.09947482 56510.13294   ]\n [50023.39801183 49050.85378   ]\n [32175.53039121 30964.07804   ]\n [55011.45849123 54013.47595   ]\n [58786.08902165 57441.44414   ]\n [53406.49946652 52785.16947   ]\n [27168.91914672 28440.81268   ]\n [59496.79081425 63248.76188   ]\n [51360.60731031 50702.18103   ]\n [56571.83455717 55167.37361   ]\n [41813.06297912 41673.44617   ]\n [29985.24909336 31083.70271   ]\n [35966.7222144  36543.93642   ]\n [48746.48133898 48465.27211   ]\n [36999.86524325 38172.83602   ]\n [50544.00563669 49348.88394   ]\n [35610.19249511 31978.9799    ]\n [60179.06815278 61118.46947   ]\n [37662.87745666 38138.57511   ]\n [35963.27884985 37259.84386   ]\n [35733.26245463 36086.93161   ]\n [30092.48783098 30719.8156    ]\n [38713.00558697 38545.80328   ]\n [47179.38576734 47380.91224   ]\n [42986.08883155 41147.46679   ]\n [36790.88840197 37348.13737   ]\n [31666.73180962 32478.44758   ]]\n"
    }
   ],
   "source": [
    "y_pred = sc_y.inverse_transform(y_pred)\n",
    "\n",
    "print(np.concatenate((y_pred, sc_y.inverse_transform(y_test)),1))"
   ]
  },
  {
   "cell_type": "code",
   "execution_count": null,
   "metadata": {},
   "outputs": [],
   "source": []
  }
 ]
}